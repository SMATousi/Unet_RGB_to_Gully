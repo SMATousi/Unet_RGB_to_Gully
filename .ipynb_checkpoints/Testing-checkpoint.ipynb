{
 "cells": [
  {
   "cell_type": "code",
   "execution_count": 30,
   "id": "283eb45a",
   "metadata": {},
   "outputs": [],
   "source": [
    "# from model import *\n",
    "from torchsummary import summary\n",
    "from Uformer_model import *"
   ]
  },
  {
   "cell_type": "code",
   "execution_count": 32,
   "id": "2198df5d",
   "metadata": {},
   "outputs": [],
   "source": [
    "# model = UNet_1(n_channels=18, n_classes=1)\n",
    "model = Uformer(img_size=64,embed_dim=32,win_size=8,in_chans=1,dd_in=18,token_projection='linear',token_mlp='leff',modulator=False)"
   ]
  },
  {
   "cell_type": "code",
   "execution_count": 22,
   "id": "bfaae376",
   "metadata": {},
   "outputs": [],
   "source": [
    "def count_parameters(model):\n",
    "    return sum(p.numel() for p in model.parameters() if p.requires_grad)"
   ]
  },
  {
   "cell_type": "code",
   "execution_count": 33,
   "id": "6f40a910",
   "metadata": {},
   "outputs": [
    {
     "data": {
      "text/plain": [
       "20625851"
      ]
     },
     "execution_count": 33,
     "metadata": {},
     "output_type": "execute_result"
    }
   ],
   "source": [
    "count_parameters(model)"
   ]
  },
  {
   "cell_type": "code",
   "execution_count": 3,
   "id": "321562a1",
   "metadata": {},
   "outputs": [],
   "source": [
    "import torch\n",
    "import torch.nn as nn\n",
    "from torch.utils.data import Dataset, DataLoader, random_split\n",
    "from torchvision import transforms\n",
    "from torch.optim.lr_scheduler import StepLR\n",
    "from PIL import Image\n",
    "from tqdm import tqdm\n",
    "import matplotlib.pyplot as plt\n",
    "import os\n",
    "import glob\n",
    "import wandb\n",
    "from model import *\n",
    "import argparse\n",
    "import random\n",
    "import numpy as np"
   ]
  },
  {
   "cell_type": "code",
   "execution_count": 4,
   "id": "d10ef8fa",
   "metadata": {},
   "outputs": [],
   "source": [
    "torch.manual_seed(1234)\n",
    "random.seed(1234)\n",
    "np.random.seed(1234)"
   ]
  },
  {
   "cell_type": "code",
   "execution_count": 5,
   "id": "2866b2d9",
   "metadata": {},
   "outputs": [
    {
     "name": "stderr",
     "output_type": "stream",
     "text": [
      "\u001b[34m\u001b[1mwandb\u001b[0m: Currently logged in as: \u001b[33mstmmc\u001b[0m (\u001b[33mtousi-team\u001b[0m). Use \u001b[1m`wandb login --relogin`\u001b[0m to force relogin\n"
     ]
    },
    {
     "data": {
      "text/html": [
       "wandb version 0.16.1 is available!  To upgrade, please run:\n",
       " $ pip install wandb --upgrade"
      ],
      "text/plain": [
       "<IPython.core.display.HTML object>"
      ]
     },
     "metadata": {},
     "output_type": "display_data"
    },
    {
     "data": {
      "text/html": [
       "Tracking run with wandb version 0.15.4"
      ],
      "text/plain": [
       "<IPython.core.display.HTML object>"
      ]
     },
     "metadata": {},
     "output_type": "display_data"
    },
    {
     "data": {
      "text/html": [
       "Run data is saved locally in <code>/home/macula/SMATousi/Gullies/ground_truth/google_api/training_process/Unet_rgb_to_so/wandb/run-20231206_144524-0gdrkbjg</code>"
      ],
      "text/plain": [
       "<IPython.core.display.HTML object>"
      ]
     },
     "metadata": {},
     "output_type": "display_data"
    },
    {
     "data": {
      "text/html": [
       "Syncing run <strong><a href='https://wandb.ai/tousi-team/Unet_rgb_to_so/runs/0gdrkbjg' target=\"_blank\">splendid-breeze-6</a></strong> to <a href='https://wandb.ai/tousi-team/Unet_rgb_to_so' target=\"_blank\">Weights & Biases</a> (<a href='https://wandb.me/run' target=\"_blank\">docs</a>)<br/>"
      ],
      "text/plain": [
       "<IPython.core.display.HTML object>"
      ]
     },
     "metadata": {},
     "output_type": "display_data"
    },
    {
     "data": {
      "text/html": [
       " View project at <a href='https://wandb.ai/tousi-team/Unet_rgb_to_so' target=\"_blank\">https://wandb.ai/tousi-team/Unet_rgb_to_so</a>"
      ],
      "text/plain": [
       "<IPython.core.display.HTML object>"
      ]
     },
     "metadata": {},
     "output_type": "display_data"
    },
    {
     "data": {
      "text/html": [
       " View run at <a href='https://wandb.ai/tousi-team/Unet_rgb_to_so/runs/0gdrkbjg' target=\"_blank\">https://wandb.ai/tousi-team/Unet_rgb_to_so/runs/0gdrkbjg</a>"
      ],
      "text/plain": [
       "<IPython.core.display.HTML object>"
      ]
     },
     "metadata": {},
     "output_type": "display_data"
    }
   ],
   "source": [
    "run = wandb.init()"
   ]
  },
  {
   "cell_type": "code",
   "execution_count": 6,
   "id": "30621b8b",
   "metadata": {},
   "outputs": [
    {
     "name": "stderr",
     "output_type": "stream",
     "text": [
      "\u001b[34m\u001b[1mwandb\u001b[0m: Downloading large artifact model_epoch_200:v2, 51.18MB. 1 files... \n",
      "\u001b[34m\u001b[1mwandb\u001b[0m:   1 of 1 files downloaded.  \n",
      "Done. 0:0:9.0\n"
     ]
    }
   ],
   "source": [
    "artifact = run.use_artifact(\"tousi-team/Good-Gully-Detection-workers/model_epoch_200:v2\", type='model')\n",
    "artifact_dir = artifact.download()"
   ]
  },
  {
   "cell_type": "code",
   "execution_count": 7,
   "id": "8331bf71",
   "metadata": {},
   "outputs": [],
   "source": [
    "device = torch.device('cuda:0' if torch.cuda.is_available() else 'cpu')"
   ]
  },
  {
   "cell_type": "code",
   "execution_count": 9,
   "id": "8da586c0",
   "metadata": {},
   "outputs": [],
   "source": [
    "model = UNet_1(n_channels=18, n_classes=1, dropout_rate=0.5).to(device)"
   ]
  },
  {
   "cell_type": "code",
   "execution_count": 10,
   "id": "cdc95a04",
   "metadata": {},
   "outputs": [
    {
     "data": {
      "text/plain": [
       "<All keys matched successfully>"
      ]
     },
     "execution_count": 10,
     "metadata": {},
     "output_type": "execute_result"
    }
   ],
   "source": [
    "model.load_state_dict(torch.load('./artifacts/model_epoch_200:v2/model_epoch_200.pth'))"
   ]
  },
  {
   "cell_type": "code",
   "execution_count": 11,
   "id": "0f7305c9",
   "metadata": {},
   "outputs": [],
   "source": [
    "in_dir = '/home/macula/SMATousi/Gullies/ground_truth/google_api/training_process/rgb2so/rgb_data_64/'\n",
    "tar_dir = '/home/macula/SMATousi/Gullies/ground_truth/google_api/training_process/rgb2so/so_data_64/'"
   ]
  },
  {
   "cell_type": "code",
   "execution_count": 12,
   "id": "b2ee5a91",
   "metadata": {},
   "outputs": [],
   "source": [
    "dataset = RGBStreamOrderDataset(input_dir=in_dir, target_dir=tar_dir, augment=True)"
   ]
  },
  {
   "cell_type": "code",
   "execution_count": 13,
   "id": "234a62ac",
   "metadata": {},
   "outputs": [],
   "source": [
    "train_size = int(0.8 * len(dataset))\n",
    "test_size = len(dataset) - train_size\n",
    "train_dataset, test_dataset = random_split(dataset, [train_size, test_size])"
   ]
  },
  {
   "cell_type": "code",
   "execution_count": 22,
   "id": "d1458cab",
   "metadata": {},
   "outputs": [],
   "source": [
    "train_loader = DataLoader(train_dataset, batch_size=8, num_workers = 8, shuffle=True)\n",
    "test_loader = DataLoader(test_dataset, batch_size=8, num_workers = 8, shuffle=True)"
   ]
  },
  {
   "cell_type": "code",
   "execution_count": 19,
   "id": "ed2db041",
   "metadata": {},
   "outputs": [],
   "source": [
    "def evaluate_model(model, dataloader, criterion, threshold=0.5, nottest=True):\n",
    "    device = torch.device('cuda' if torch.cuda.is_available() else 'cpu')\n",
    "    print(\"------ Evaluation --------\")\n",
    "    model.eval()\n",
    "    total_loss = 0\n",
    "    total_precision = 0\n",
    "    total_recall = 0\n",
    "    total_f1 = 0\n",
    "    num_batches = len(dataloader)\n",
    "\n",
    "    with torch.no_grad():\n",
    "        for inputs, targets in tqdm(dataloader):\n",
    "            inputs, targets = inputs.to(device), targets.to(device)\n",
    "            outputs = model(inputs)\n",
    "\n",
    "            # Apply sigmoid function to ensure outputs are in the probability space\n",
    "            probs = outputs.sigmoid()\n",
    "            preds = (probs > threshold).float()  # Cast to float to perform calculations\n",
    "\n",
    "            loss = criterion(outputs, targets)\n",
    "            total_loss += loss.item()\n",
    "\n",
    "            precision, recall, f1 = calculate_precision_recall_f1(preds, targets.float())\n",
    "            total_precision += precision\n",
    "            total_recall += recall\n",
    "            total_f1 += f1\n",
    "\n",
    "            if not nottest:\n",
    "                break\n",
    "\n",
    "    avg_loss = total_loss / num_batches\n",
    "    avg_precision = total_precision / num_batches\n",
    "    avg_recall = total_recall / num_batches\n",
    "    avg_f1 = total_f1 / num_batches\n",
    "\n",
    "    return avg_loss, avg_precision, avg_recall, avg_f1"
   ]
  },
  {
   "cell_type": "code",
   "execution_count": 20,
   "id": "1dd36dea",
   "metadata": {},
   "outputs": [],
   "source": [
    "criterion = nn.BCEWithLogitsLoss()\n",
    "optimizer = torch.optim.SGD(model.parameters(), lr=1e-4)"
   ]
  },
  {
   "cell_type": "code",
   "execution_count": 25,
   "id": "c48e784a",
   "metadata": {},
   "outputs": [
    {
     "name": "stdout",
     "output_type": "stream",
     "text": [
      "------ Evaluation --------\n"
     ]
    },
    {
     "name": "stderr",
     "output_type": "stream",
     "text": [
      "  0%|                                                                                                                   | 0/1016 [00:00<?, ?it/s]\n"
     ]
    }
   ],
   "source": [
    "avg_loss, avg_precision, avg_recall, avg_f1 = evaluate_model(model, test_loader, criterion, threshold=0.5, nottest=False)\n"
   ]
  },
  {
   "cell_type": "code",
   "execution_count": 26,
   "id": "d1e8cfd8",
   "metadata": {},
   "outputs": [
    {
     "name": "stdout",
     "output_type": "stream",
     "text": [
      "0.00045673472909476816 0.0 tensor(0., device='cuda:0') 0.0\n"
     ]
    }
   ],
   "source": [
    "print(avg_loss, avg_precision, avg_recall, avg_f1)"
   ]
  },
  {
   "cell_type": "code",
   "execution_count": 27,
   "id": "fa988c5a",
   "metadata": {},
   "outputs": [
    {
     "ename": "NameError",
     "evalue": "name 'probs' is not defined",
     "output_type": "error",
     "traceback": [
      "\u001b[0;31m---------------------------------------------------------------------------\u001b[0m",
      "\u001b[0;31mNameError\u001b[0m                                 Traceback (most recent call last)",
      "\u001b[0;32m/tmp/ipykernel_305255/1201585783.py\u001b[0m in \u001b[0;36m<module>\u001b[0;34m\u001b[0m\n\u001b[0;32m----> 1\u001b[0;31m \u001b[0mprobs\u001b[0m\u001b[0;34m\u001b[0m\u001b[0;34m\u001b[0m\u001b[0m\n\u001b[0m",
      "\u001b[0;31mNameError\u001b[0m: name 'probs' is not defined"
     ]
    }
   ],
   "source": [
    "probs"
   ]
  },
  {
   "cell_type": "code",
   "execution_count": 47,
   "id": "50988f0b",
   "metadata": {},
   "outputs": [
    {
     "ename": "SyntaxError",
     "evalue": "invalid syntax (3764536355.py, line 19)",
     "output_type": "error",
     "traceback": [
      "\u001b[0;36m  File \u001b[0;32m\"/tmp/ipykernel_305255/3764536355.py\"\u001b[0;36m, line \u001b[0;32m19\u001b[0m\n\u001b[0;31m    loss = criterion(outputs, targets)\u001b[0m\n\u001b[0m       ^\u001b[0m\n\u001b[0;31mSyntaxError\u001b[0m\u001b[0;31m:\u001b[0m invalid syntax\n"
     ]
    }
   ],
   "source": [
    "device = torch.device('cuda' if torch.cuda.is_available() else 'cpu')\n",
    "print(\"------ Evaluation --------\")\n",
    "model.eval()\n",
    "total_loss = 0\n",
    "total_precision = 0\n",
    "total_recall = 0\n",
    "total_f1 = 0\n",
    "num_batches = len(test_loader)\n",
    "\n",
    "with torch.no_grad():\n",
    "    for inputs, targets in tqdm(test_loader):\n",
    "        inputs, targets = inputs.to(device), targets.to(device)\n",
    "        outputs = model(inputs)\n",
    "\n",
    "        # Apply sigmoid function to ensure outputs are in the probability space\n",
    "        probs = outputs.sigmoid()\n",
    "        preds = (probs > 0.1).flotCast to float to perform calculations\n",
    "\n",
    "        loss = criterion(outputs, targets)\n",
    "        total_loss += loss.item()\n",
    "\n",
    "        precision, recall, f1 = calculate_precision_recall_f1(preds, targets.float())\n",
    "        total_precision += precision\n",
    "        total_recall += recall\n",
    "        total_f1 += f1\n",
    "\n",
    "\n",
    "        break\n",
    "\n",
    "avg_loss = total_loss / num_batches\n",
    "avg_precision = total_precision / num_batches\n",
    "avg_recall = total_recall / num_batches\n",
    "avg_f1 = total_f1 / num_batches"
   ]
  },
  {
   "cell_type": "code",
   "execution_count": 35,
   "id": "22dc7c3e",
   "metadata": {
    "scrolled": true
   },
   "outputs": [
    {
     "data": {
      "text/plain": [
       "tensor([[[[1., 1., 0.,  ..., 1., 0., 0.],\n",
       "          [1., 1., 1.,  ..., 1., 1., 0.],\n",
       "          [0., 0., 0.,  ..., 1., 1., 1.],\n",
       "          ...,\n",
       "          [1., 1., 1.,  ..., 0., 1., 0.],\n",
       "          [1., 1., 1.,  ..., 0., 0., 0.],\n",
       "          [1., 1., 1.,  ..., 1., 0., 0.]]],\n",
       "\n",
       "\n",
       "        [[[1., 0., 0.,  ..., 1., 1., 0.],\n",
       "          [1., 0., 0.,  ..., 0., 0., 0.],\n",
       "          [0., 1., 0.,  ..., 1., 0., 0.],\n",
       "          ...,\n",
       "          [1., 0., 1.,  ..., 1., 0., 0.],\n",
       "          [1., 1., 0.,  ..., 0., 0., 0.],\n",
       "          [1., 1., 1.,  ..., 0., 0., 0.]]],\n",
       "\n",
       "\n",
       "        [[[1., 1., 0.,  ..., 1., 1., 1.],\n",
       "          [1., 0., 0.,  ..., 1., 0., 0.],\n",
       "          [0., 0., 0.,  ..., 1., 0., 0.],\n",
       "          ...,\n",
       "          [1., 1., 0.,  ..., 0., 0., 0.],\n",
       "          [1., 1., 0.,  ..., 0., 0., 0.],\n",
       "          [1., 1., 0.,  ..., 0., 0., 0.]]],\n",
       "\n",
       "\n",
       "        ...,\n",
       "\n",
       "\n",
       "        [[[1., 1., 0.,  ..., 1., 0., 0.],\n",
       "          [1., 1., 1.,  ..., 1., 1., 0.],\n",
       "          [0., 1., 0.,  ..., 1., 1., 0.],\n",
       "          ...,\n",
       "          [1., 1., 1.,  ..., 1., 1., 0.],\n",
       "          [1., 1., 1.,  ..., 0., 0., 0.],\n",
       "          [1., 1., 0.,  ..., 1., 0., 0.]]],\n",
       "\n",
       "\n",
       "        [[[1., 1., 0.,  ..., 0., 0., 0.],\n",
       "          [1., 1., 1.,  ..., 1., 0., 0.],\n",
       "          [1., 0., 1.,  ..., 1., 0., 0.],\n",
       "          ...,\n",
       "          [1., 1., 0.,  ..., 1., 1., 0.],\n",
       "          [1., 1., 0.,  ..., 0., 0., 0.],\n",
       "          [1., 1., 1.,  ..., 1., 1., 0.]]],\n",
       "\n",
       "\n",
       "        [[[1., 1., 1.,  ..., 1., 0., 0.],\n",
       "          [1., 0., 1.,  ..., 1., 1., 1.],\n",
       "          [0., 0., 0.,  ..., 1., 1., 1.],\n",
       "          ...,\n",
       "          [1., 1., 1.,  ..., 0., 0., 0.],\n",
       "          [1., 0., 1.,  ..., 0., 0., 0.],\n",
       "          [1., 0., 0.,  ..., 0., 0., 0.]]]], device='cuda:0')"
      ]
     },
     "execution_count": 35,
     "metadata": {},
     "output_type": "execute_result"
    }
   ],
   "source": [
    "preds"
   ]
  },
  {
   "cell_type": "code",
   "execution_count": 37,
   "id": "1a40c158",
   "metadata": {},
   "outputs": [
    {
     "data": {
      "text/plain": [
       "tensor(0.9832, device='cuda:0')"
      ]
     },
     "execution_count": 37,
     "metadata": {},
     "output_type": "execute_result"
    }
   ],
   "source": [
    "recall"
   ]
  },
  {
   "cell_type": "code",
   "execution_count": 38,
   "id": "0bd4bbc8",
   "metadata": {},
   "outputs": [
    {
     "data": {
      "text/plain": [
       "tensor(0.1602, device='cuda:0')"
      ]
     },
     "execution_count": 38,
     "metadata": {},
     "output_type": "execute_result"
    }
   ],
   "source": [
    "precision"
   ]
  },
  {
   "cell_type": "code",
   "execution_count": 46,
   "id": "039644e1",
   "metadata": {},
   "outputs": [
    {
     "data": {
      "text/plain": [
       "<matplotlib.image.AxesImage at 0x7f6e4fbdd8d0>"
      ]
     },
     "execution_count": 46,
     "metadata": {},
     "output_type": "execute_result"
    },
    {
     "data": {
      "image/png": "[encoded data removed]",
      "text/plain": [
       "<Figure size 640x480 with 1 Axes>"
      ]
     },
     "metadata": {},
     "output_type": "display_data"
    }
   ],
   "source": [
    "plt.imshow(preds[1].cpu().numpy().squeeze())"
   ]
  },
  {
   "cell_type": "code",
   "execution_count": null,
   "id": "48c61f9a",
   "metadata": {},
   "outputs": [],
   "source": []
  }
 ],
 "metadata": {
  "kernelspec": {
   "display_name": "Python 3 (ipykernel)",
   "language": "python",
   "name": "python3"
  },
  "language_info": {
   "codemirror_mode": {
    "name": "ipython",
    "version": 3
   },
   "file_extension": ".py",
   "mimetype": "text/x-python",
   "name": "python",
   "nbconvert_exporter": "python",
   "pygments_lexer": "ipython3",
   "version": "3.7.13"
  }
 },
 "nbformat": 4,
 "nbformat_minor": 5
}
