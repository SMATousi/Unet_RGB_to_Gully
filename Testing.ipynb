{
 "cells": [
  {
   "cell_type": "code",
   "execution_count": 30,
   "id": "283eb45a",
   "metadata": {},
   "outputs": [],
   "source": [
    "# from model import *\n",
    "from torchsummary import summary\n",
    "from Uformer_model import *"
   ]
  },
  {
   "cell_type": "code",
   "execution_count": 32,
   "id": "2198df5d",
   "metadata": {},
   "outputs": [],
   "source": [
    "# model = UNet_1(n_channels=18, n_classes=1)\n",
    "model = Uformer(img_size=64,embed_dim=32,win_size=8,in_chans=1,dd_in=18,token_projection='linear',token_mlp='leff',modulator=False)"
   ]
  },
  {
   "cell_type": "code",
   "execution_count": 22,
   "id": "bfaae376",
   "metadata": {},
   "outputs": [],
   "source": [
    "def count_parameters(model):\n",
    "    return sum(p.numel() for p in model.parameters() if p.requires_grad)"
   ]
  },
  {
   "cell_type": "code",
   "execution_count": 33,
   "id": "6f40a910",
   "metadata": {},
   "outputs": [
    {
     "data": {
      "text/plain": [
       "20625851"
      ]
     },
     "execution_count": 33,
     "metadata": {},
     "output_type": "execute_result"
    }
   ],
   "source": [
    "count_parameters(model)"
   ]
  },
  {
   "cell_type": "code",
   "execution_count": null,
   "id": "321562a1",
   "metadata": {},
   "outputs": [],
   "source": []
  }
 ],
 "metadata": {
  "kernelspec": {
   "display_name": "Python 3",
   "language": "python",
   "name": "python3"
  },
  "language_info": {
   "codemirror_mode": {
    "name": "ipython",
    "version": 3
   },
   "file_extension": ".py",
   "mimetype": "text/x-python",
   "name": "python",
   "nbconvert_exporter": "python",
   "pygments_lexer": "ipython3",
   "version": "3.6.13"
  }
 },
 "nbformat": 4,
 "nbformat_minor": 5
}
